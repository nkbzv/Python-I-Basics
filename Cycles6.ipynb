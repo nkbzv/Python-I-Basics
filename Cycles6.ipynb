{
 "cells": [
  {
   "cell_type": "markdown",
   "id": "c739493f",
   "metadata": {},
   "source": [
    "Используя циклы, напишите код, который бы выводил данную фигуру:<br/>\n",
    "&emsp;&emsp;&emsp;&emsp;1<br/>\n",
    "&emsp;&emsp;&emsp;&ensp;12<br/>\n",
    "&emsp;&emsp;&emsp;123<br/>\n",
    "&emsp;&emsp;&ensp;1234<br/>\n",
    "&emsp;&emsp;12345<br/>\n",
    "&emsp;&ensp;123456<br/>\n",
    "&emsp;1234567<br/>\n",
    "&ensp;12345678<br/>\n",
    "123456789<br/>\n",
    "&ensp;12345678<br/>\n",
    "&emsp;1234567<br/>\n",
    "&emsp;&ensp;123456<br/>\n",
    "&emsp;&emsp;12345<br/>\n",
    "&emsp;&emsp;&ensp;1234<br/>\n",
    "&emsp;&emsp;&emsp;123<br/>\n",
    "&emsp;&emsp;&emsp;&ensp;12<br/>\n",
    "&emsp;&emsp;&emsp;&emsp;1<br/>\n",
    "\n",
    "Программа должна выводить фигуру разной величины, в зависимости от входного параметра. <br/>\n",
    "Значение параметра может принимать значения от 0 до 9."
   ]
  },
  {
   "cell_type": "code",
   "execution_count": 1,
   "id": "89f0f129",
   "metadata": {},
   "outputs": [
    {
     "name": "stdout",
     "output_type": "stream",
     "text": [
      "         \n",
      "        1\n",
      "       12\n",
      "      123\n",
      "     1234\n",
      "    12345\n",
      "   123456\n",
      "  1234567\n",
      " 12345678\n",
      "123456789\n",
      " 12345678\n",
      "  1234567\n",
      "   123456\n",
      "    12345\n",
      "     1234\n",
      "      123\n",
      "       12\n",
      "        1\n",
      "         \n",
      "          \n",
      "           \n"
     ]
    }
   ],
   "source": [
    "n = int(input()) + 1\n",
    "for i in range(1, n + n + 2):\n",
    "    if i <= n:\n",
    "        print(' ' * (n - i), end='')\n",
    "        print(*range(1, i), sep='')\n",
    "    else:\n",
    "        print(' ' * (i - n), end='')\n",
    "        print(*range(1, n + n - i), sep='')"
   ]
  },
  {
   "cell_type": "code",
   "execution_count": null,
   "id": "f67163e0",
   "metadata": {},
   "outputs": [],
   "source": []
  }
 ],
 "metadata": {
  "interpreter": {
   "hash": "e02994432bf857db7557af44c6801eec8512f8e7b865a37d222ec45a83d065c5"
  },
  "kernelspec": {
   "display_name": "Python 3.10.0 64-bit",
   "name": "python3"
  },
  "language_info": {
   "codemirror_mode": {
    "name": "ipython",
    "version": 3
   },
   "file_extension": ".py",
   "mimetype": "text/x-python",
   "name": "python",
   "nbconvert_exporter": "python",
   "pygments_lexer": "ipython3",
   "version": "3.10.0"
  }
 },
 "nbformat": 4,
 "nbformat_minor": 5
}
