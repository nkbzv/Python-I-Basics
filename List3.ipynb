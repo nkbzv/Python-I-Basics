{
 "cells": [
  {
   "cell_type": "markdown",
   "id": "63f9a4ec",
   "metadata": {},
   "source": [
    "Задан список с числами. Напишите программу, которая меняет местами наибольший и наименьший элемент и выводит новый список.\n",
    "\n",
    "Подставьте \"Входные данные\" в свою программу и сравните результат с выходными данными.\n",
    "1) Входные данные: 3, 4, 5, 2, 1. Выходные данные: 3, 4, 1, 2, 5\n",
    "2) Входные данные: -3000, 3000. Выходные данные: 3000, -3000\n",
    "3) Входные данные: 1, 2, 3, 4, 5, 6, 7. Выходные данные: 7, 2, 3, 4, 5, 6, 1\n",
    "4) Входные данные: -5, 5, 10. Выходные данные: 10, 5, -5"
   ]
  },
  {
   "cell_type": "code",
   "execution_count": 1,
   "id": "129827af",
   "metadata": {
    "scrolled": false
   },
   "outputs": [
    {
     "name": "stdout",
     "output_type": "stream",
     "text": [
      "['5', '-5', '10']\n"
     ]
    }
   ],
   "source": [
    "L=input().split(\", \")\n",
    "i = L.index(max(L))\n",
    "j = L.index(min(L))\n",
    "L[i], L[j] = L[j], L[i]\n",
    "print(L)"
   ]
  }
 ],
 "metadata": {
  "interpreter": {
   "hash": "e02994432bf857db7557af44c6801eec8512f8e7b865a37d222ec45a83d065c5"
  },
  "kernelspec": {
   "display_name": "Python 3.10.0 64-bit",
   "name": "python3"
  },
  "language_info": {
   "codemirror_mode": {
    "name": "ipython",
    "version": 3
   },
   "file_extension": ".py",
   "mimetype": "text/x-python",
   "name": "python",
   "nbconvert_exporter": "python",
   "pygments_lexer": "ipython3",
   "version": "3.10.0"
  }
 },
 "nbformat": 4,
 "nbformat_minor": 5
}
