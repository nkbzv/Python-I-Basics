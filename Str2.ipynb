{
 "cells": [
  {
   "cell_type": "markdown",
   "id": "86436068",
   "metadata": {},
   "source": [
    "Напишите код, который обрабатывает строковые данные и возвращает их с первыми заглавными буквами в каждом слове.<br/>\n",
    "\n",
    "\n",
    "Подставьте \"Входные данные\" в свою программу и сравните результат с выходными данными.<br/>\n",
    "1) Входные данные: 'ivan ivanov'.<br/>\n",
    "    Выходные данные: 'Ivan Ivanov' <br/>\n",
    "2) Входные данные: 'can    you   solve  it?'. <br/>\n",
    "     Выходные данные: 'Can    You   Solve  It?'<br/>\n",
    "3) Входные данные: 'abraсadabra'. <br/>\n",
    "     Выходные данные: 'Abraсadabra'<br/>\n",
    "4) Входные данные: 'a1 2b  3   abc d3e r2D2'. <br/>\n",
    "     Выходные данные: 'A1 2b  3   Abc D3e R2D2'"
   ]
  },
  {
   "cell_type": "code",
   "execution_count": 2,
   "id": "0c1c3890",
   "metadata": {},
   "outputs": [
    {
     "name": "stdout",
     "output_type": "stream",
     "text": [
      "['a1', '2b', '', '3', '', '', 'abc', 'd3e', 'r2D2']\n",
      "A1 2b  3   Abc D3e R2D2\n"
     ]
    }
   ],
   "source": [
    "my_string = input().split(' ')\n",
    "print(' '.join(word[:1].upper() + word[1:] for word in my_string))"
   ]
  }
 ],
 "metadata": {
  "interpreter": {
   "hash": "f4d81dca00ebf6eec35b8a097e02d463b5ed6427a80db32293eee80d31427fdb"
  },
  "kernelspec": {
   "display_name": "Python 3.8.8 64-bit ('base': conda)",
   "name": "python3"
  },
  "language_info": {
   "codemirror_mode": {
    "name": "ipython",
    "version": 3
   },
   "file_extension": ".py",
   "mimetype": "text/x-python",
   "name": "python",
   "nbconvert_exporter": "python",
   "pygments_lexer": "ipython3",
   "version": "3.8.8"
  }
 },
 "nbformat": 4,
 "nbformat_minor": 5
}
