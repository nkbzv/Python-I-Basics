{
 "cells": [
  {
   "cell_type": "code",
   "execution_count": null,
   "id": "bd25f692",
   "metadata": {},
   "outputs": [],
   "source": [
    "'''По данному натуральному n ≤ 9 выведите лесенку из n ступенек, i-я ступенька состоит из чисел от 1 до i без пробелов.\n",
    "\n",
    "1) Входные данные: 1. Выходные данные:\n",
    "1\n",
    "\n",
    "2) Входные данные: 3. Выходные данные:\n",
    "1\n",
    "12\n",
    "123\n",
    "\n",
    "3) Входные данные: 5. Выходные данные:\n",
    "1\n",
    "12\n",
    "123\n",
    "1234\n",
    "12345\n",
    "'''"
   ]
  },
  {
   "cell_type": "code",
   "execution_count": 1,
   "id": "ce4421ae",
   "metadata": {},
   "outputs": [
    {
     "name": "stdout",
     "output_type": "stream",
     "text": [
      "9\n",
      "\n",
      "\n",
      "1\n",
      "12\n",
      "123\n",
      "1234\n",
      "12345\n",
      "123456\n",
      "1234567\n",
      "12345678\n",
      "123456789\n"
     ]
    }
   ],
   "source": [
    "n = int(input())\n",
    "for i in range(n + 2):\n",
    "    print(*range(1, i), sep='')"
   ]
  },
  {
   "cell_type": "code",
   "execution_count": null,
   "id": "fa3e913b",
   "metadata": {},
   "outputs": [],
   "source": []
  }
 ],
 "metadata": {
  "kernelspec": {
   "display_name": "Python 3",
   "language": "python",
   "name": "python3"
  },
  "language_info": {
   "codemirror_mode": {
    "name": "ipython",
    "version": 3
   },
   "file_extension": ".py",
   "mimetype": "text/x-python",
   "name": "python",
   "nbconvert_exporter": "python",
   "pygments_lexer": "ipython3",
   "version": "3.8.8"
  }
 },
 "nbformat": 4,
 "nbformat_minor": 5
}
