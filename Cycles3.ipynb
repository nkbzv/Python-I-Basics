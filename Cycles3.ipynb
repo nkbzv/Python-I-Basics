{
 "cells": [
  {
   "cell_type": "markdown",
   "id": "bd25f692",
   "metadata": {},
   "source": [
    "По данному натуральному n ≤ 9 выведите лесенку из n ступенек, i-я ступенька состоит из чисел от 1 до i без пробелов.\n",
    "\n",
    "1) Входные данные: 1. Выходные данные:<br/>\n",
    "1<br/>\n",
    "\n",
    "2) Входные данные: 3. Выходные данные:<br/>\n",
    "1<br/>\n",
    "12<br/>\n",
    "123<br/>\n",
    "\n",
    "3) Входные данные: 5. Выходные данные:<br/>\n",
    "1<br/>\n",
    "12<br/>\n",
    "123<br/>\n",
    "1234<br/>\n",
    "12345<br/>\n"
   ]
  },
  {
   "cell_type": "code",
   "execution_count": 2,
   "id": "ce4421ae",
   "metadata": {},
   "outputs": [
    {
     "name": "stdout",
     "output_type": "stream",
     "text": [
      "\n",
      "\n",
      "1\n",
      "12\n",
      "123\n",
      "1234\n",
      "12345\n"
     ]
    }
   ],
   "source": [
    "n = int(input())\n",
    "for i in range(n + 2):\n",
    "    print(*range(1, i), sep='')"
   ]
  }
 ],
 "metadata": {
  "interpreter": {
   "hash": "e02994432bf857db7557af44c6801eec8512f8e7b865a37d222ec45a83d065c5"
  },
  "kernelspec": {
   "display_name": "Python 3.10.0 64-bit",
   "name": "python3"
  },
  "language_info": {
   "codemirror_mode": {
    "name": "ipython",
    "version": 3
   },
   "file_extension": ".py",
   "mimetype": "text/x-python",
   "name": "python",
   "nbconvert_exporter": "python",
   "pygments_lexer": "ipython3",
   "version": "3.10.0"
  }
 },
 "nbformat": 4,
 "nbformat_minor": 5
}
