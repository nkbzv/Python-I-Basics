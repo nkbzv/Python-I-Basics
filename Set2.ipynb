{
 "cells": [
  {
   "cell_type": "markdown",
   "id": "0238792a",
   "metadata": {},
   "source": [
    "Даны два списка чисел. Напишите программу, которая определяет, сколько в них встречается общих чисел, используя множества.\n",
    "1) Входные данные: 1, 2, 3\n",
    "1, 4, 5. \n",
    "Выходные значения: 1.\n",
    "2) Входные данные: 1, 2, 3, 4, 5, 6, 7\n",
    "10, 2, 3, 4, 8. \n",
    "Выходные значения: 3.\n",
    "3) Входные данные: 1, 10, 223, 413, 2\n",
    "2, 40, 12, 100, 10. \n",
    "Выходные значения: 2."
   ]
  },
  {
   "cell_type": "code",
   "execution_count": 15,
   "id": "1e9cb40a",
   "metadata": {},
   "outputs": [
    {
     "name": "stdout",
     "output_type": "stream",
     "text": [
      "1, 10, 223, 413, 2\n",
      "2, 40, 12, 100, 10\n",
      "2\n"
     ]
    }
   ],
   "source": [
    "num_set=set(input().split(\", \"))\n",
    "num_set2=set(input().split(\", \"))\n",
    "num_set.intersection_update(num_set2)\n",
    "print(len(num_set))"
   ]
  }
 ],
 "metadata": {
  "kernelspec": {
   "display_name": "Python 3",
   "language": "python",
   "name": "python3"
  },
  "language_info": {
   "codemirror_mode": {
    "name": "ipython",
    "version": 3
   },
   "file_extension": ".py",
   "mimetype": "text/x-python",
   "name": "python",
   "nbconvert_exporter": "python",
   "pygments_lexer": "ipython3",
   "version": "3.8.8"
  }
 },
 "nbformat": 4,
 "nbformat_minor": 5
}
