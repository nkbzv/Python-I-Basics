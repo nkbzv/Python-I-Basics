{
 "cells": [
  {
   "cell_type": "code",
   "execution_count": 1,
   "id": "4690b4b1",
   "metadata": {},
   "outputs": [
    {
     "name": "stdout",
     "output_type": "stream",
     "text": [
      "Python is awesome!\n"
     ]
    }
   ],
   "source": [
    "str_1 = \"Python\"\n",
    "str_2 = \"awesome!\"\n",
    "\n",
    "print (str_1 + \" is \" + str_2)"
   ]
  },
  {
   "cell_type": "code",
   "execution_count": 1,
   "id": "9251a6e7",
   "metadata": {},
   "outputs": [
    {
     "name": "stdout",
     "output_type": "stream",
     "text": [
      "False\n",
      "False\n",
      "True\n"
     ]
    }
   ],
   "source": [
    "a = 0\n",
    "b = 0\n",
    "print(a < b)\n",
    "print(a > b)\n",
    "print(a == b)"
   ]
  }
 ],
 "metadata": {
  "interpreter": {
   "hash": "f4d81dca00ebf6eec35b8a097e02d463b5ed6427a80db32293eee80d31427fdb"
  },
  "kernelspec": {
   "display_name": "Python 3.8.8 64-bit ('base': conda)",
   "name": "python3"
  },
  "language_info": {
   "codemirror_mode": {
    "name": "ipython",
    "version": 3
   },
   "file_extension": ".py",
   "mimetype": "text/x-python",
   "name": "python",
   "nbconvert_exporter": "python",
   "pygments_lexer": "ipython3",
   "version": "3.8.8"
  }
 },
 "nbformat": 4,
 "nbformat_minor": 5
}
