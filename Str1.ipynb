{
 "cells": [
  {
   "cell_type": "markdown",
   "id": "d9935ae4",
   "metadata": {},
   "source": [
    "Дана строка: Abraсadabra<br/>\n",
    "Требуется:<br/>\n",
    "Вывести третий символ этой строки.<br/>\n",
    "Вывести предпоследний символ этой строки.<br/>\n",
    "Вывести первые пять символов этой строки.<br/>\n",
    "Вывести строку, кроме последних двух символов.<br/>\n",
    "Вывести все символы с четными индексами (считайте, что 0 - четный индекс).<br/>\n",
    "Вывести все символы с нечетными индексами.<br/>\n",
    "Вывести все символы в обратном порядке.<br/>\n",
    "Вывести все символы строки через один в обратном порядке, начиная с последнего.<br/>\n",
    "Вывести длину данной строки."
   ]
  },
  {
   "cell_type": "code",
   "execution_count": 1,
   "id": "7714b06d",
   "metadata": {},
   "outputs": [
    {
     "name": "stdout",
     "output_type": "stream",
     "text": [
      "r\n",
      "r\n",
      "Abrac\n",
      "Abracadab\n",
      "Arcdba\n",
      "baaar\n",
      "arbadacarbA\n",
      "abdcrA\n",
      "11\n"
     ]
    }
   ],
   "source": [
    "s='Abracadabra'\n",
    "print(s[2])#Второй символ\n",
    "print(s[-2])#Предпоследний символ\n",
    "print(s[:5])#Первые пять символов\n",
    "print(s[:-2])#Строка, кроме последних двух символов\n",
    "print(s[::2])#Все символы с четными индексами\n",
    "print(s[1::2])#Все символы с нечетными индексами\n",
    "print(s[::-1])#Символы в обратном порядке\n",
    "print(s[::-2])#Символы в обратном порядке через один\n",
    "print(len(s))#Длина строки"
   ]
  }
 ],
 "metadata": {
  "kernelspec": {
   "display_name": "Python 3",
   "language": "python",
   "name": "python3"
  },
  "language_info": {
   "codemirror_mode": {
    "name": "ipython",
    "version": 3
   },
   "file_extension": ".py",
   "mimetype": "text/x-python",
   "name": "python",
   "nbconvert_exporter": "python",
   "pygments_lexer": "ipython3",
   "version": "3.8.8"
  }
 },
 "nbformat": 4,
 "nbformat_minor": 5
}
