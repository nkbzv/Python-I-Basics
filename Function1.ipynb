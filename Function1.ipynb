{
 "cells": [
  {
   "cell_type": "markdown",
   "id": "1bc167dc",
   "metadata": {},
   "source": [
    "Напишите программу, которая принимает арифметическое выражение в качестве аргумента и выводит результат этого выражения.\n",
    "Необходимо использовать функции. Программа должна поддерживать следующие арифметические операции: +, -, /, *, \n",
    "%(получение процента от числа), **(возведение в квадрат), **х(возведение в степень числа х). \n",
    "\n",
    "Подставьте \"Входные данные\" в свою программу и сравните результат с выходными данными.\n",
    "\n",
    "1) Входные данные: 1+9. \n",
    "Выходные значения: 10.\n",
    "2) Входные данные: 100%. \n",
    "Выходные значения: 1.0.\n",
    "3) Входные данные: 4**. \n",
    "Выходные значения: 16.\n",
    "4) Входные данные: 9**3. \n",
    "Выходные значения: 729."
   ]
  },
  {
   "cell_type": "code",
   "execution_count": 1,
   "id": "69d82814",
   "metadata": {},
   "outputs": [
    {
     "name": "stdout",
     "output_type": "stream",
     "text": [
      "10\n",
      "1.0\n",
      "16\n",
      "729\n"
     ]
    }
   ],
   "source": [
    "def calc(string):\n",
    "    '''Простенький калькулятор с поддержкой следющих операций:\n",
    "    +, -, /, *, %(получение процента от числа), \n",
    "    **(возведение в квадрат), **х(возведение в степень числа х)''' \n",
    "    for i in string:\n",
    "        if i==' ':\n",
    "            string=string.replace(' ', '')\n",
    "    if '+' in string:\n",
    "        var=string.split('+')\n",
    "        print(int(var[0])+int(var[-1]))\n",
    "    elif '-' in string:\n",
    "        var=string.split('-')\n",
    "        print(int(var[0])-int(var[-1]))\n",
    "    elif '/' in string:\n",
    "        var=string.split('/')\n",
    "        print(int(var[0])/int(var[-1]))\n",
    "    elif '*' in string and '**' not in string:\n",
    "        var=string.split('*')\n",
    "        print(int(var[0])*int(var[-1]))\n",
    "    elif '%' in string:\n",
    "        var=string.split('%')\n",
    "        print(int(var[0])/100)\n",
    "    elif '**' in string:\n",
    "        var=string.split('**')\n",
    "        if var[-1]=='':\n",
    "            print(int(var[0])**2)\n",
    "        else:\n",
    "            print(int(var[0])**int(var[-1]))\n",
    "calc('1+9')\n",
    "calc('100%')\n",
    "calc('4**')\n",
    "calc('9**3')"
   ]
  },
  {
   "cell_type": "code",
   "execution_count": null,
   "id": "ec7fcccd",
   "metadata": {},
   "outputs": [],
   "source": []
  }
 ],
 "metadata": {
  "interpreter": {
   "hash": "e02994432bf857db7557af44c6801eec8512f8e7b865a37d222ec45a83d065c5"
  },
  "kernelspec": {
   "display_name": "Python 3.10.0 64-bit",
   "name": "python3"
  },
  "language_info": {
   "codemirror_mode": {
    "name": "ipython",
    "version": 3
   },
   "file_extension": ".py",
   "mimetype": "text/x-python",
   "name": "python",
   "nbconvert_exporter": "python",
   "pygments_lexer": "ipython3",
   "version": "3.10.0"
  }
 },
 "nbformat": 4,
 "nbformat_minor": 5
}
