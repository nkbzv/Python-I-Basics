{
 "cells": [
  {
   "cell_type": "markdown",
   "id": "eeb9fead",
   "metadata": {},
   "source": [
    "Напишите программу, которая будет выполнять действие, обратное заданию 1. \n",
    "Программа должна производить поиск по значению и выдавать ключ.\n",
    "\n",
    "Подставьте \"Входные данные\" в свою программу и сравните результат с выходными данными.<br/>\n",
    "1) Входные данные: {'Hello' : 'Hi', 'Bye' : 'Goodbye', 'List' : 'Array'};<br/>\n",
    "Параметр для input() : 'Hi'.<br/>\n",
    "Выходные данные: 'Hello'. <br/>\n",
    "2) Входные данные: {'beep' : 'car'};<br/>\n",
    "Параметр для input() : 'car'.<br/>\n",
    "Выходные данные: 'beep'.<br/>\n",
    "3) Входные данные: {'a' : 1, 'b' : 2, 'c' : 3, 'd' : 4, 'e' : 5};<br/>\n",
    "Параметр для input() : 5.<br/>\n",
    "Выходные данные: 'e'."
   ]
  },
  {
   "cell_type": "code",
   "execution_count": 1,
   "id": "d0279e07",
   "metadata": {
    "scrolled": true
   },
   "outputs": [
    {
     "name": "stdout",
     "output_type": "stream",
     "text": [
      "e\n"
     ]
    }
   ],
   "source": [
    "d={'a' : 1, 'b' : 2, 'c' : 3, 'd' : 4, 'e' : 5}\n",
    "search = input()\n",
    "for key, value in d.items():\n",
    "    value = str(value)\n",
    "    if value == search:\n",
    "        print(key)"
   ]
  }
 ],
 "metadata": {
  "interpreter": {
   "hash": "e02994432bf857db7557af44c6801eec8512f8e7b865a37d222ec45a83d065c5"
  },
  "kernelspec": {
   "display_name": "Python 3.10.0 64-bit",
   "name": "python3"
  },
  "language_info": {
   "codemirror_mode": {
    "name": "ipython",
    "version": 3
   },
   "file_extension": ".py",
   "mimetype": "text/x-python",
   "name": "python",
   "nbconvert_exporter": "python",
   "pygments_lexer": "ipython3",
   "version": "3.10.0"
  }
 },
 "nbformat": 4,
 "nbformat_minor": 5
}
