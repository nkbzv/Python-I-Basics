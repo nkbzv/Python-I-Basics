{
 "cells": [
  {
   "cell_type": "code",
   "execution_count": 1,
   "metadata": {},
   "outputs": [
    {
     "name": "stdout",
     "output_type": "stream",
     "text": [
      "Наименьшее число:  3\n"
     ]
    }
   ],
   "source": [
    "var1 = int(input('Введите первое число\\n'))\n",
    "var2 = int(input('Введите второе число\\n'))\n",
    "var3 = int(input('Введите третье число\\n'))\n",
    "\n",
    "if var1<=var2 :\n",
    "    if var1<var3 :\n",
    "        if var1==var2 :\n",
    "            print('Первое и второе числа совпадают и являются наименьшими: ', var1)\n",
    "        else:\n",
    "            print('Наименьшее число: ', var1)\n",
    "    elif var1==var3 :\n",
    "        if var1==var2 :\n",
    "            print('Все три числа совпадают.')\n",
    "        else:\n",
    "            print('Первое и третье числа совпадают и являются наименьшими: ', var1)\n",
    "    else:\n",
    "        print('Наименьшее число: ', var3)\n",
    "else :\n",
    "    if var2<var3 :\n",
    "        print('Наименьшее число: ', var2)\n",
    "    elif var2==var3 :\n",
    "        print('Первое и третье числа совпадают и являются наименьшими: ', var2)\n",
    "    else:\n",
    "        print('Наименьшее число: ', var3)"
   ]
  }
 ],
 "metadata": {
  "interpreter": {
   "hash": "e02994432bf857db7557af44c6801eec8512f8e7b865a37d222ec45a83d065c5"
  },
  "kernelspec": {
   "display_name": "Python 3.10.0 64-bit",
   "name": "python3"
  },
  "language_info": {
   "codemirror_mode": {
    "name": "ipython",
    "version": 3
   },
   "file_extension": ".py",
   "mimetype": "text/x-python",
   "name": "python",
   "nbconvert_exporter": "python",
   "pygments_lexer": "ipython3",
   "version": "3.10.0"
  },
  "orig_nbformat": 4
 },
 "nbformat": 4,
 "nbformat_minor": 2
}
