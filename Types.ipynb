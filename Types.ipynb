{
 "cells": [
  {
   "cell_type": "code",
   "execution_count": 3,
   "metadata": {},
   "outputs": [
    {
     "name": "stdout",
     "output_type": "stream",
     "text": [
      "<class 'NoneType'>\n",
      "<class 'bool'>\n",
      "<class 'bool'>\n",
      "<class 'int'>\n",
      "<class 'float'>\n",
      "<class 'complex'>\n",
      "<class 'list'>\n",
      "<class 'tuple'>\n",
      "<class 'range'>\n",
      "<class 'str'>\n",
      "<class 'bytes'>\n",
      "<class 'bytearray'>\n",
      "<class 'memoryview'>\n",
      "<class 'set'>\n",
      "<class 'frozenset'>\n",
      "<class 'dict'>\n",
      "<class 'str'>\n"
     ]
    }
   ],
   "source": [
    "print(type(None))\n",
    "print(type(True))\n",
    "print(type(False))\n",
    "print(type(1))\n",
    "print(type(5.3))\n",
    "print(type(5 + 4j))\n",
    "print(type([1, 5.3, False, 4]))\n",
    "print(type((1, True, 3, 5+4j)))\n",
    "print(type(range(5)))\n",
    "print(type('Hello'))\n",
    "print(type(b'a'))\n",
    "print(type(bytearray([1,2,3])))\n",
    "print(type(memoryview(bytearray('XYZ', 'utf-8'))))\n",
    "print(type({'a', 3, True}))\n",
    "print(type(frozenset({1, 2, 3})))\n",
    "print(type({'a':32}))\n",
    "print(type('\\''))"
   ]
  }
 ],
 "metadata": {
  "interpreter": {
   "hash": "f4d81dca00ebf6eec35b8a097e02d463b5ed6427a80db32293eee80d31427fdb"
  },
  "kernelspec": {
   "display_name": "Python 3.8.8 64-bit ('base': conda)",
   "name": "python3"
  },
  "language_info": {
   "codemirror_mode": {
    "name": "ipython",
    "version": 3
   },
   "file_extension": ".py",
   "mimetype": "text/x-python",
   "name": "python",
   "nbconvert_exporter": "python",
   "pygments_lexer": "ipython3",
   "version": "3.8.8"
  },
  "orig_nbformat": 4
 },
 "nbformat": 4,
 "nbformat_minor": 2
}
