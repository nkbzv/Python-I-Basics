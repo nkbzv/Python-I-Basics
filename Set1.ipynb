{
 "cells": [
  {
   "cell_type": "markdown",
   "id": "34819b57",
   "metadata": {},
   "source": [
    "Дан список чисел. Напишите программу, которая определяет, сколько в нем встречается различных чисел, используя множества.\n",
    "1) Входные данные: 1, 2, 3, 2, 1.\n",
    "Выходные значения: 3.\n",
    "2) Входные данные: 1, 2, 3, 4, 5, 6, 7.\n",
    "Выходные значения: 7.\n",
    "3) Входные данные: 1, 1, 1, 1, 1.\n",
    "Выходные значения: 1.\n",
    "4) Входные данные: 1, 2, 3, 1, 1. \n",
    "Выходные значения: 3."
   ]
  },
  {
   "cell_type": "code",
   "execution_count": 8,
   "id": "5e051c02",
   "metadata": {
    "scrolled": true
   },
   "outputs": [
    {
     "name": "stdout",
     "output_type": "stream",
     "text": [
      "1, 2, 3, 1, 1\n",
      "3\n"
     ]
    }
   ],
   "source": [
    "num=input().split(', ')\n",
    "print(len(set(num)))"
   ]
  }
 ],
 "metadata": {
  "kernelspec": {
   "display_name": "Python 3",
   "language": "python",
   "name": "python3"
  },
  "language_info": {
   "codemirror_mode": {
    "name": "ipython",
    "version": 3
   },
   "file_extension": ".py",
   "mimetype": "text/x-python",
   "name": "python",
   "nbconvert_exporter": "python",
   "pygments_lexer": "ipython3",
   "version": "3.8.8"
  }
 },
 "nbformat": 4,
 "nbformat_minor": 5
}
