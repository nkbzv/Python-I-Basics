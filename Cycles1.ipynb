{
 "cells": [
  {
   "cell_type": "code",
   "execution_count": null,
   "id": "b5307bf3",
   "metadata": {},
   "outputs": [],
   "source": [
    "'''Задан массив из 10 чисел. Напишите программу, которая выводит их сумму.\n",
    "\n",
    "Подставьте \"Входные данные\" в свою программу и сравните результат с выходными данными.\n",
    "1) Входные данные: 0, 1, 2, 3, 4, 5, 6, 7, 8, 9. Выходные данные: 45 \n",
    "2) Входные данные: 1, 1, 1, 1, 1, 1, 1, 1, 1, 1. Выходные данные: 10 \n",
    "3) Входные данные: 8, 4, 5, 3, 9, 2, 3, 4, 5, 1. Выходные данные: 44\n",
    "4) Входные данные: 758, 483, 893, 393, 293, 292, 292, 485, 828, 182. Выходные данные: 4899'''"
   ]
  },
  {
   "cell_type": "code",
   "execution_count": null,
   "id": "3d74d804",
   "metadata": {},
   "outputs": [],
   "source": [
    "b = 0\n",
    "for i in range(1,11):\n",
    "    a = int(input())\n",
    "    b += a\n",
    "print(b)\n"
   ]
  }
 ],
 "metadata": {
  "kernelspec": {
   "display_name": "Python 3",
   "language": "python",
   "name": "python3"
  },
  "language_info": {
   "codemirror_mode": {
    "name": "ipython",
    "version": 3
   },
   "file_extension": ".py",
   "mimetype": "text/x-python",
   "name": "python",
   "nbconvert_exporter": "python",
   "pygments_lexer": "ipython3",
   "version": "3.8.8"
  }
 },
 "nbformat": 4,
 "nbformat_minor": 5
}
