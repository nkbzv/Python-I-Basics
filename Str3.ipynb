{
 "cells": [
  {
   "cell_type": "markdown",
   "id": "62c3815d",
   "metadata": {},
   "source": [
    "Пароль считается надежным, если его длина составляет не менее 12 символов, \n",
    "при этом он должен содержать хотя бы одну заглавную букву, хотя бы одну \n",
    "строчную букву, хотя бы одну цифру и хотя бы один спецсимвол. Напишите код, \n",
    "который обрабатывает строковые данные и выводит сообщение о том, надежен ли \n",
    "пароль или нет. В случае, если пароль не надежен, код должен выдавать рекомендации \n",
    "для усиления надежности пароля.\n",
    "\n",
    "Подставьте \"Входные данные\" в свою программу и сравните результат с выходными данными.<br/>\n",
    "1) Входные данные: 'qwerty'.<br/>\n",
    "    Выходные данные: 'Слабый пароль. Рекомендации: увеличить число символов - 6, добавить 1 заглавную букву, добавить 1 цифру, добавить 1 спецсимвол ' <br/>\n",
    "2) Входные данные: 'Qwert_Y'. <br/>\n",
    "     Выходные данные: 'Ошибка. Запрещенный спецсимвол'<br/>\n",
    "3) Входные данные: 'Q123wer123tY'. <br/>\n",
    "     Выходные данные: 'Слабый пароль. Рекомендации: добавить 1 спецсимвол'<br/>\n",
    "4) Входные данные: '@PowerRangers123@'. <br/>\n",
    "     Выходные данные: 'Сильный пароль.'<br/>"
   ]
  },
  {
   "cell_type": "code",
   "execution_count": 7,
   "id": "e34cf90d",
   "metadata": {},
   "outputs": [
    {
     "name": "stdout",
     "output_type": "stream",
     "text": [
      "@PowerRangers123@\n",
      "Сильный пароль.\n"
     ]
    }
   ],
   "source": [
    "password = input()\n",
    " \n",
    "digits = '1234567890'\n",
    "lowercase_letter =  'abcdefghijklmnopqrstuvwxyz'\n",
    "Capital_letter = 'ABCDEFGHIJKLMNOPQRSTUVWXYZ'\n",
    "allowed_characters = '!@#$%^&*()-+'\n",
    "all = '1234567890abcdefghijklmnopqrstuvwxyzABCDEFGHIJKLMNOPQRSTUVWXYZ!@#$%^&*()-+'\n",
    "f1=f2=f3=f4=f5 = False\n",
    " \n",
    "for p in password:\n",
    "    if p not in all:\n",
    "        print(\"Ошибка. Запрещенный спецсимвол\")\n",
    "        f5 = True\n",
    " \n",
    "for i in password:\n",
    "    if i in digits:\n",
    "        f1 = True\n",
    "    if i in lowercase_letter:\n",
    "        f2 = True\n",
    "    if i in Capital_letter:\n",
    "        f3 = True\n",
    "    if i in allowed_characters:\n",
    "        f4 = True\n",
    " \n",
    "if f5 == False:\n",
    "    mes = []\n",
    "    if f1 and f2 and f3 and f4 and len(password) >=12:    \n",
    "        print(\"Сильный пароль.\")\n",
    "    else:\n",
    "            print(\"Слабый пароль. Рекомендации: \", end = \"\")\n",
    "            if f1 == False:\n",
    "                mes.append(\"добавить 1 цифру\")\n",
    "            if f2 == False:\n",
    "                mes.append(\"добавить 1 маленькую букву\")\n",
    "            if f3 == False:\n",
    "                mes.append(\"добавить 1 заглавную букву\")\n",
    "            if f4 == False:\n",
    "                mes.append(\"добавить 1 спецсимвол\")\n",
    "            if len(password) < 12:\n",
    "                c = \" увеличить число символов на \" + str(12-len(password))\n",
    "                mes.append(c)\n",
    "            print(', '.join(mes))\n"
   ]
  }
 ],
 "metadata": {
  "kernelspec": {
   "display_name": "Python 3",
   "language": "python",
   "name": "python3"
  },
  "language_info": {
   "codemirror_mode": {
    "name": "ipython",
    "version": 3
   },
   "file_extension": ".py",
   "mimetype": "text/x-python",
   "name": "python",
   "nbconvert_exporter": "python",
   "pygments_lexer": "ipython3",
   "version": "3.8.8"
  }
 },
 "nbformat": 4,
 "nbformat_minor": 5
}
