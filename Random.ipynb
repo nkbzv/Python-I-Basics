{
 "cells": [
  {
   "cell_type": "markdown",
   "metadata": {},
   "source": [
    "В заданиях к разделу \"Строки\" одна из задач состояла в написании программы, проверяющей надежность пароля. В данном упражнении вам необходимо написать функцию, которая будет генерировать тот самый надежный пароль случайным образом. Модуль random как раз поможет вам в этом. Давайте вспомним когда пароль считается надежным:\n",
    "\n",
    "1) Пароль содержит не менее 12 символов\n",
    "\n",
    "2) Пароль содержит хотя бы одну заглавную букву\n",
    "\n",
    "3) Пароль содержит хотя бы одну строчную букву\n",
    "\n",
    "4) Пароль содержит хотя бы одну цифру\n",
    "\n",
    "5) Пароль содержит хотя бы один спецсимвол"
   ]
  },
  {
   "cell_type": "code",
   "execution_count": 29,
   "metadata": {},
   "outputs": [
    {
     "name": "stdout",
     "output_type": "stream",
     "text": [
      "Случайный пароль:  r+LL9dU1L2MN\n"
     ]
    }
   ],
   "source": [
    "import random\n",
    "digits = '1234567890'\n",
    "lowercase_letter =  'abcdefghijklmnopqrstuvwxyz'\n",
    "Capital_letter = 'ABCDEFGHIJKLMNOPQRSTUVWXYZ'\n",
    "allowed_characters = '!@#$%^&*()-+'\n",
    "all = '1234567890abcdefghijklmnopqrstuvwxyzABCDEFGHIJKLMNOPQRSTUVWXYZ!@#$%^&*()-+'\n",
    "f1=f2=f3=f4 = False\n",
    "password = ''\n",
    "n = int(input())\n",
    "for i in range(n):\n",
    "    password += random.choice(all)\n",
    "if n < 12:\n",
    "    while len(password) < 12:\n",
    "        password += random.choice(all)\n",
    "for i in password:\n",
    "    if i in digits:\n",
    "        f1 = True\n",
    "    if i in lowercase_letter:\n",
    "        f2 = True\n",
    "    if i in Capital_letter:\n",
    "        f3 = True\n",
    "    if i in allowed_characters:\n",
    "        f4 = True\n",
    "while (f1 and f2 and f3 and f4) == False:    \n",
    "    if f1 == False:\n",
    "        password += random.choice(digits)\n",
    "        password = list(password)\n",
    "        random.shuffle(password)\n",
    "        password = ''.join(password)\n",
    "        f1 = True\n",
    "    if f2 == False:\n",
    "        password += random.choice(lowercase_letter)\n",
    "        password = list(password)\n",
    "        random.shuffle(password)\n",
    "        password = ''.join(password)\n",
    "        f2 = True\n",
    "    if f3 == False:\n",
    "        password += random.choice(Capital_letter)\n",
    "        password = list(password)\n",
    "        random.shuffle(password)\n",
    "        password = ''.join(password)\n",
    "        f3 = True\n",
    "    if f4 == False:\n",
    "        password += random.choice(allowed_characters)\n",
    "        password = list(password)\n",
    "        random.shuffle(password)\n",
    "        password = ''.join(password)\n",
    "        f4 = True\n",
    "print(\"Случайный пароль: \", password)"
   ]
  }
 ],
 "metadata": {
  "interpreter": {
   "hash": "f4d81dca00ebf6eec35b8a097e02d463b5ed6427a80db32293eee80d31427fdb"
  },
  "kernelspec": {
   "display_name": "Python 3.8.8 64-bit ('base': conda)",
   "name": "python3"
  },
  "language_info": {
   "codemirror_mode": {
    "name": "ipython",
    "version": 3
   },
   "file_extension": ".py",
   "mimetype": "text/x-python",
   "name": "python",
   "nbconvert_exporter": "python",
   "pygments_lexer": "ipython3",
   "version": "3.8.8"
  },
  "orig_nbformat": 4
 },
 "nbformat": 4,
 "nbformat_minor": 2
}
