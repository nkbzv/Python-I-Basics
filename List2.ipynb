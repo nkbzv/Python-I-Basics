{
 "cells": [
  {
   "cell_type": "markdown",
   "id": "54368b31",
   "metadata": {},
   "source": [
    "Задан список с числами. Напишите программу, \n",
    "которая выводит все элементы списка, которые больше предыдущего, в виде отдельного списка.\n",
    "\n",
    "Подставьте \"Входные данные\" в свою программу и сравните результат с выходными данными.\n",
    "1) Входные данные: 1, 5, 2, 4, 3. Выходные данные: 5, 4 \n",
    "2) Входные данные: 1, 2, 3, 4, 5. Выходные данные: 2, 3, 4, 5\n",
    "3) Входные данные: 5, 4, 3, 2, 1. Выходные данные: \n",
    "4) Входные данные: 1, 5, 1, 5, 1. Выходные данные: 5, 5"
   ]
  },
  {
   "cell_type": "code",
   "execution_count": 6,
   "id": "c0132819",
   "metadata": {},
   "outputs": [
    {
     "name": "stdout",
     "output_type": "stream",
     "text": [
      "1, 5, 1, 5, 1\n",
      "['5', '5']\n"
     ]
    }
   ],
   "source": [
    "L=input().split(\", \")\n",
    "A=[]\n",
    "for i in range(len(L)-1):\n",
    "    if L[i]<L[i+1]:\n",
    "        A.append(L[i+1])\n",
    "print(A)"
   ]
  }
 ],
 "metadata": {
  "kernelspec": {
   "display_name": "Python 3",
   "language": "python",
   "name": "python3"
  },
  "language_info": {
   "codemirror_mode": {
    "name": "ipython",
    "version": 3
   },
   "file_extension": ".py",
   "mimetype": "text/x-python",
   "name": "python",
   "nbconvert_exporter": "python",
   "pygments_lexer": "ipython3",
   "version": "3.8.8"
  }
 },
 "nbformat": 4,
 "nbformat_minor": 5
}
