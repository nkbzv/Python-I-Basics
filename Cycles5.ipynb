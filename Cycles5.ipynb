{
 "cells": [
  {
   "cell_type": "code",
   "execution_count": 1,
   "id": "fb55ebe8",
   "metadata": {},
   "outputs": [
    {
     "ename": "SyntaxError",
     "evalue": "invalid syntax (<ipython-input-1-0094b4e507e8>, line 1)",
     "output_type": "error",
     "traceback": [
      "\u001b[1;36m  File \u001b[1;32m\"<ipython-input-1-0094b4e507e8>\"\u001b[1;36m, line \u001b[1;32m1\u001b[0m\n\u001b[1;33m    По данному натуральному n ≤ 9 выведите лесенку из n ступенек,\u001b[0m\n\u001b[1;37m       ^\u001b[0m\n\u001b[1;31mSyntaxError\u001b[0m\u001b[1;31m:\u001b[0m invalid syntax\n"
     ]
    }
   ],
   "source": [
    "'''По данному натуральному n ≤ 9 выведите лесенку из n ступенек, \n",
    "i-я ступенька состоит из чисел от 1 до i без пробелов.\n",
    "Дополните код из предыдущего задания, чтобы теперь получалась пирамида. \n",
    "То есть каждая ступень состоит из чисел от 1 до i и обратно.\n",
    "Дополните код из предыдущего задания, чтобы теперь получался ромб. \n",
    "То есть количество ступеней должно равняться числу n*2-1.\n",
    "\n",
    "1) Входные данные: 1. Выходные данные:\n",
    "1\n",
    "\n",
    "2) Входные данные: 3. Выходные данные:\n",
    "   1\n",
    "  121\n",
    " 12321\n",
    "  121\n",
    "   1\n",
    "\n",
    "3) Входные данные: 5. Выходные данные:\n",
    "     1 \n",
    "    121\n",
    "   12321 \n",
    "  1234321 \n",
    " 123454321\n",
    "  1234321\n",
    "   12321\n",
    "    121\n",
    "     1\n",
    "'''"
   ]
  },
  {
   "cell_type": "code",
   "execution_count": 2,
   "id": "15812596",
   "metadata": {},
   "outputs": [
    {
     "name": "stdout",
     "output_type": "stream",
     "text": [
      "9\n",
      "         \n",
      "        1\n",
      "       121\n",
      "      12321\n",
      "     1234321\n",
      "    123454321\n",
      "   12345654321\n",
      "  1234567654321\n",
      " 123456787654321\n",
      "12345678987654321\n",
      " 123456787654321\n",
      "  1234567654321\n",
      "   12345654321\n",
      "    123454321\n",
      "     1234321\n",
      "      12321\n",
      "       121\n",
      "        1\n",
      "         \n",
      "          \n",
      "           \n"
     ]
    }
   ],
   "source": [
    "n = int(input()) + 1\n",
    "for i in range(1, n + n + 2):\n",
    "    if i <= n:\n",
    "        print(' ' * (n - i), end='')\n",
    "        print(*range(1, i), *range(1, i - 1)[::-1], sep='')\n",
    "    else:\n",
    "        print(' ' * (i - n), end='')\n",
    "        print(*range(1, n + n - i), *range(1, n + n - i - 1)[::-1], sep='')"
   ]
  },
  {
   "cell_type": "code",
   "execution_count": null,
   "id": "5f9bc44a",
   "metadata": {},
   "outputs": [],
   "source": []
  }
 ],
 "metadata": {
  "kernelspec": {
   "display_name": "Python 3",
   "language": "python",
   "name": "python3"
  },
  "language_info": {
   "codemirror_mode": {
    "name": "ipython",
    "version": 3
   },
   "file_extension": ".py",
   "mimetype": "text/x-python",
   "name": "python",
   "nbconvert_exporter": "python",
   "pygments_lexer": "ipython3",
   "version": "3.8.8"
  }
 },
 "nbformat": 4,
 "nbformat_minor": 5
}
