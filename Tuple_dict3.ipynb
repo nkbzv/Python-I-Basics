{
 "cells": [
  {
   "cell_type": "markdown",
   "id": "f7fb161d",
   "metadata": {
    "scrolled": true
   },
   "source": [
    "Напишите программу, которая принимает список строк и выводит количество повторений данных строк в списке.<br/>\n",
    "\n",
    "Подставьте \"Входные данные\" в свою программу и сравните результат с выходными данными.<br/>\n",
    "1) Входные данные: ['abc', 'bcd', 'abc', 'abd', 'abd', 'dcd', 'abc'].<br/>\n",
    "Выходные данные: 3 1 2 1. <br/>\n",
    "2) Входные данные: ['aaa', 'bbb', 'ccc'].<br/>\n",
    "Выходные данные: 1 1 1.<br/>\n",
    "3) Входные данные: ['abc', 'abc', 'abc'].<br/>\n",
    "Выходные данные: 3.<br/>"
   ]
  },
  {
   "cell_type": "code",
   "execution_count": 2,
   "id": "8a96d234",
   "metadata": {
    "scrolled": false
   },
   "outputs": [
    {
     "name": "stdout",
     "output_type": "stream",
     "text": [
      "3 "
     ]
    }
   ],
   "source": [
    "spisok=['abc', 'abc', 'abc']\n",
    "c = dict.fromkeys(spisok)\n",
    "n=0\n",
    "for key, value in c.items():\n",
    "  for i in range(len(spisok)):\n",
    "    if key==spisok[i]:\n",
    "      n+=1\n",
    "  print(n, end=' ')\n",
    "  n=0"
   ]
  }
 ],
 "metadata": {
  "interpreter": {
   "hash": "f4d81dca00ebf6eec35b8a097e02d463b5ed6427a80db32293eee80d31427fdb"
  },
  "kernelspec": {
   "display_name": "Python 3.8.8 64-bit ('base': conda)",
   "name": "python3"
  },
  "language_info": {
   "codemirror_mode": {
    "name": "ipython",
    "version": 3
   },
   "file_extension": ".py",
   "mimetype": "text/x-python",
   "name": "python",
   "nbconvert_exporter": "python",
   "pygments_lexer": "ipython3",
   "version": "3.8.8"
  }
 },
 "nbformat": 4,
 "nbformat_minor": 5
}
