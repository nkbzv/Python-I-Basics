{
 "cells": [
  {
   "cell_type": "markdown",
   "id": "e7cb7217",
   "metadata": {},
   "source": [
    "Задан массив из n чисел. Напишите программу, которая считает и выводит количество чисел равных нулю.\n",
    "\n",
    "Подставьте \"Входные данные\" в свою программу и сравните результат с выходными данными.\n",
    "1) Входные данные: 0, 1, 2, 3, 4. Выходные данные: 1 \n",
    "2) Входные данные: 1, 0, 1, 0, 1, 0, 1, 0, 1, 0. Выходные данные: 5 \n",
    "3) Входные данные: 8, 4, 0, 3, 9, 2, 3, 0. Выходные данные: 2\n",
    "4) Входные данные: 700, 8, 89, 20, 13. Выходные данные: 0"
   ]
  },
  {
   "cell_type": "code",
   "execution_count": 2,
   "id": "654d1e17",
   "metadata": {},
   "outputs": [
    {
     "name": "stdout",
     "output_type": "stream",
     "text": [
      "0\n"
     ]
    }
   ],
   "source": [
    "n = int(input('Из скольки чисел массив?\\n'))\n",
    "b=0\n",
    "for i in range(1,n+1):\n",
    "    a=int(input('Введите число\\n'))\n",
    "    if a==0 :\n",
    "        b+=1\n",
    "print(b)\n"
   ]
  }
 ],
 "metadata": {
  "interpreter": {
   "hash": "e02994432bf857db7557af44c6801eec8512f8e7b865a37d222ec45a83d065c5"
  },
  "kernelspec": {
   "display_name": "Python 3.10.0 64-bit",
   "name": "python3"
  },
  "language_info": {
   "codemirror_mode": {
    "name": "ipython",
    "version": 3
   },
   "file_extension": ".py",
   "mimetype": "text/x-python",
   "name": "python",
   "nbconvert_exporter": "python",
   "pygments_lexer": "ipython3",
   "version": "3.10.0"
  }
 },
 "nbformat": 4,
 "nbformat_minor": 5
}
