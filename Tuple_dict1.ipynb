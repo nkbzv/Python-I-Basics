{
 "cells": [
  {
   "cell_type": "markdown",
   "id": "ee517d3c",
   "metadata": {},
   "source": [
    "Задан словарь. Напишите программу, которая будет выводить значение по заданному ключу.\n",
    "\n",
    "Подставьте \"Входные данные\" в свою программу и сравните результат с выходными данными.<br/>\n",
    "1) Входные данные: {'Hello' : 'Hi', 'Bye' : 'Goodbye', 'List' : 'Array'};<br/>\n",
    "Параметр для input() : 'Bye'.<br/>\n",
    "Выходные данные: 'Goodbye'. <br/>\n",
    "2) Входные данные: {'beep' : 'car'};<br/>\n",
    "Параметр для input() : 'beep'.<br/>\n",
    "Выходные данные: 'car'.<br/>\n",
    "3) Входные данные: {'a' : 1, 'b' : 2, 'c' : 3, 'd' : 4, 'e' : 5};<br/>\n",
    "Параметр для input() : 'c'.<br/>\n",
    "Выходные данные: 3.<br/>"
   ]
  },
  {
   "cell_type": "code",
   "execution_count": 1,
   "id": "397edd98",
   "metadata": {
    "scrolled": true
   },
   "outputs": [
    {
     "name": "stdout",
     "output_type": "stream",
     "text": [
      "3\n"
     ]
    }
   ],
   "source": [
    "d={'a' : 1, 'b' : 2, 'c' : 3, 'd' : 4, 'e' : 5}\n",
    "print(d.get(input()))"
   ]
  }
 ],
 "metadata": {
  "interpreter": {
   "hash": "e02994432bf857db7557af44c6801eec8512f8e7b865a37d222ec45a83d065c5"
  },
  "kernelspec": {
   "display_name": "Python 3.10.0 64-bit",
   "name": "python3"
  },
  "language_info": {
   "codemirror_mode": {
    "name": "ipython",
    "version": 3
   },
   "file_extension": ".py",
   "mimetype": "text/x-python",
   "name": "python",
   "nbconvert_exporter": "python",
   "pygments_lexer": "ipython3",
   "version": "3.10.0"
  }
 },
 "nbformat": 4,
 "nbformat_minor": 5
}
