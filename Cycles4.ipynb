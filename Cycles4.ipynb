{
 "cells": [
  {
   "cell_type": "code",
   "execution_count": null,
   "id": "ef4f9800",
   "metadata": {},
   "outputs": [],
   "source": [
    "'''По данному натуральному n ≤ 9 выведите лесенку из n ступенек, \n",
    "i-я ступенька состоит из чисел от 1 до i без пробелов.\n",
    "Дополните код из предыдущего задания, чтобы теперь получалась пирамида. \n",
    "То есть каждая ступень состоит из чисел от 1 до i и обратно.\n",
    "\n",
    "1) Входные данные: 1. Выходные данные:\n",
    "1\n",
    "\n",
    "2) Входные данные: 3. Выходные данные:\n",
    "  1\n",
    " 121\n",
    "12321\n",
    "\n",
    "3) Входные данные: 5. Выходные данные:\n",
    "     1 \n",
    "    121\n",
    "   12321 \n",
    "  1234321 \n",
    " 123454321\n",
    " '''"
   ]
  },
  {
   "cell_type": "code",
   "execution_count": null,
   "id": "d4db63f8",
   "metadata": {},
   "outputs": [],
   "source": [
    "n = int(input())+1\n",
    "for i in range(1, n + 1):\n",
    "    print(' ' * (n - i), end='')\n",
    "    print(*range(1, i), *range(1, i - 1)[::-1], sep='')"
   ]
  }
 ],
 "metadata": {
  "kernelspec": {
   "display_name": "Python 3",
   "language": "python",
   "name": "python3"
  },
  "language_info": {
   "codemirror_mode": {
    "name": "ipython",
    "version": 3
   },
   "file_extension": ".py",
   "mimetype": "text/x-python",
   "name": "python",
   "nbconvert_exporter": "python",
   "pygments_lexer": "ipython3",
   "version": "3.8.8"
  }
 },
 "nbformat": 4,
 "nbformat_minor": 5
}
