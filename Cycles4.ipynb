{
 "cells": [
  {
   "cell_type": "markdown",
   "id": "ef4f9800",
   "metadata": {},
   "source": [
    "По данному натуральному n ≤ 9 выведите лесенку из n ступенек, \n",
    "i-я ступенька состоит из чисел от 1 до i без пробелов.\n",
    "Дополните код из предыдущего задания, чтобы теперь получалась пирамида. \n",
    "То есть каждая ступень состоит из чисел от 1 до i и обратно.\n",
    "\n",
    "1) Входные данные: 1. Выходные данные:<br/>\n",
    "1<br/>\n",
    "\n",
    "2) Входные данные: 3. Выходные данные:<br/>\n",
    "&emsp;1<br/>\n",
    "&ensp;121<br/>\n",
    "12321<br/>\n",
    "\n",
    "3) Входные данные: 5. Выходные данные:<br/>\n",
    "&emsp;&emsp;1 <br/>\n",
    "&emsp;&ensp;121<br/>\n",
    "&emsp;12321 <br/>\n",
    "&ensp;1234321 <br/>\n",
    "123454321<br/>"
   ]
  },
  {
   "cell_type": "code",
   "execution_count": 1,
   "id": "d4db63f8",
   "metadata": {},
   "outputs": [
    {
     "name": "stdout",
     "output_type": "stream",
     "text": [
      "     \n",
      "    1\n",
      "   121\n",
      "  12321\n",
      " 1234321\n",
      "123454321\n"
     ]
    }
   ],
   "source": [
    "n = int(input())+1\n",
    "for i in range(1, n + 1):\n",
    "    print(' ' * (n - i), end='')\n",
    "    print(*range(1, i), *range(1, i - 1)[::-1], sep='')"
   ]
  }
 ],
 "metadata": {
  "interpreter": {
   "hash": "e02994432bf857db7557af44c6801eec8512f8e7b865a37d222ec45a83d065c5"
  },
  "kernelspec": {
   "display_name": "Python 3.10.0 64-bit",
   "name": "python3"
  },
  "language_info": {
   "codemirror_mode": {
    "name": "ipython",
    "version": 3
   },
   "file_extension": ".py",
   "mimetype": "text/x-python",
   "name": "python",
   "nbconvert_exporter": "python",
   "pygments_lexer": "ipython3",
   "version": "3.10.0"
  }
 },
 "nbformat": 4,
 "nbformat_minor": 5
}
