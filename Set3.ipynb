{
 "cells": [
  {
   "cell_type": "markdown",
   "id": "776943bb",
   "metadata": {},
   "source": [
    "Даны два множества чисел. Напишите программу, которая определяет, \n",
    "является ли первое множество подмножеством второго. Множество является \n",
    "подмножеством другого множества, если все данные первого совпадают с \n",
    "частью данных из второго. Если множества совпадают, они не являются \n",
    "подмножествами друг друга.\n",
    "Подставьте \"Входные данные\" в свою программу и сравните результат с выходными данными.\n",
    "1) Входные данные: {1, 2, 3}\n",
    "{1, 4, 5}. \n",
    "Выходные значения: False.\n",
    "2) Входные данные: {1, 2, 3, 4, 5, 6, 7}\n",
    "{10, 9, 8, 7, 6, 5, 4, 3, 2, 1, 0}. \n",
    "Выходные значения: True.\n",
    "3) Входные данные: {1, 10, 223, 413, 2}\n",
    "{1, 10, 223, 413, 2}. \n",
    "Выходные значения: False."
   ]
  },
  {
   "cell_type": "code",
   "execution_count": 22,
   "id": "a6d428a3",
   "metadata": {
    "scrolled": false
   },
   "outputs": [
    {
     "name": "stdout",
     "output_type": "stream",
     "text": [
      "1, 10, 223, 413, 2\n",
      "1, 10, 223, 413, 2\n",
      "False\n"
     ]
    }
   ],
   "source": [
    "num_set=set(input().split(\", \"))\n",
    "num_other=set(input().split(\", \"))\n",
    "if len(num_set) != len(num_other) and (num_set.issubset(num_other) or num_other.issubset(num_set)):\n",
    "    print('True')\n",
    "else:\n",
    "    print('False')"
   ]
  }
 ],
 "metadata": {
  "kernelspec": {
   "display_name": "Python 3",
   "language": "python",
   "name": "python3"
  },
  "language_info": {
   "codemirror_mode": {
    "name": "ipython",
    "version": 3
   },
   "file_extension": ".py",
   "mimetype": "text/x-python",
   "name": "python",
   "nbconvert_exporter": "python",
   "pygments_lexer": "ipython3",
   "version": "3.8.8"
  }
 },
 "nbformat": 4,
 "nbformat_minor": 5
}
