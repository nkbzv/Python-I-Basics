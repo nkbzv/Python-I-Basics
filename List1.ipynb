{
 "cells": [
  {
   "cell_type": "markdown",
   "id": "91900aa9",
   "metadata": {},
   "source": [
    "Задан список с числами. Напишите программу, которая выводит все элементы списка с четными индексами в виде нового списка.\n",
    "Индекс 0 считается четным.\n",
    "\n",
    "Подставьте \"Входные данные\" в свою программу и сравните результат с выходными данными.\n",
    "1) Входные данные: 1, 2, 3, 4, 5. Выходные данные: 1, 3, 5 \n",
    "2) Входные данные: 9, 4, 5, 2, 3. Выходные данные: 9, 5, 3\n",
    "3) Входные данные: 7, 8. Выходные данные: 7\n",
    "4) Входные данные: 90, 45, 3, 43. Выходные данные: 90, 3"
   ]
  },
  {
   "cell_type": "code",
   "execution_count": 1,
   "id": "08a69c5a",
   "metadata": {},
   "outputs": [
    {
     "name": "stdout",
     "output_type": "stream",
     "text": [
      "90 3\n"
     ]
    }
   ],
   "source": [
    "L=input().split(\", \")\n",
    "print(*L[::2])"
   ]
  }
 ],
 "metadata": {
  "interpreter": {
   "hash": "e02994432bf857db7557af44c6801eec8512f8e7b865a37d222ec45a83d065c5"
  },
  "kernelspec": {
   "display_name": "Python 3.10.0 64-bit",
   "name": "python3"
  },
  "language_info": {
   "codemirror_mode": {
    "name": "ipython",
    "version": 3
   },
   "file_extension": ".py",
   "mimetype": "text/x-python",
   "name": "python",
   "nbconvert_exporter": "python",
   "pygments_lexer": "ipython3",
   "version": "3.10.0"
  }
 },
 "nbformat": 4,
 "nbformat_minor": 5
}
